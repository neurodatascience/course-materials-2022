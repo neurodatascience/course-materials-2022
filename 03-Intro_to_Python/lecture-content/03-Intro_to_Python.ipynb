{
 "cells": [
  {
   "cell_type": "markdown",
   "metadata": {},
   "source": [
    "# QLSC 612 - Introduction to Python"
   ]
  },
  {
   "cell_type": "markdown",
   "metadata": {},
   "source": [
    "* Simple, easy to learn syntax emphasizes readability. Efficient and intuitive to write in.\n",
    "* Created 30+ yrs ago, large community. Huge growth since 2012.\n",
    "* Lots of libraries permitting you to users others code. \n",
    "\n",
    "## Conceptual Basics\n",
    "\n",
    "### High-level\n",
    "* Strong abstraction from the details of the computer or the machine language.\n",
    "* Don't have to deal with 1/0's or allocating memory and registers.\n",
    "* Lots of nice built-in data structures.\n",
    "\n",
    "### An Interpreted Language\n",
    "* If you code in C/C++, you have to compile it, translating your human understandable code to machine understandable code which the CPU can execute.\n",
    "* Python code is translated into bytecode (low-level set of instructions that can be executed by an interpreter).\n",
    "* Executed on a virtual machine (VM) and not CPU.\n",
    "* Interpreter checks the validity of variable types and operations, as opposed to having to declare them, and having them checked on compilation.\n",
    "* Advantage: given the bytecode and the VM are the same version, the bytecode can be executed on any platform (cost/inconvenience is that it typically takes a bit more time to run).\n",
    "\n",
    "### Object-oriented\n",
    "* Organized around objects. Everything in python (lists, dictionaries, classes, etc.) is an object (chunk of memory containing a value).\n",
    "* We won't delve into the object oriented philosophy today.\n",
    "\n",
    "### Dynamic semantics\n",
    "* Variables are dynamic objects: think of them as labels on actual objects\n",
    "* Can set a variable to an integer, then to a string, etc...\n",
    "* Assign variables in a way that makes more sense to a human than it does to the computer."
   ]
  },
  {
   "cell_type": "markdown",
   "metadata": {},
   "source": [
    "# Python version\n",
    "For this tutorial to run properly, you are expected to have Python 3 installed. This notebook is written in Python 3.7."
   ]
  },
  {
   "cell_type": "markdown",
   "metadata": {},
   "source": [
    "# Running and commenting your code.\n",
    "\n",
    "* In a command line: Open the terminal window, and type in the word python (or python3 if you have both versions of python installed), followed by the path to your script. For example, if your script is called hello.py, you would type python3 hello.py.\n",
    "* In a Jupyter Notebook: Write your code in a cell, and press Ctrl + Enter to execute the code."
   ]
  },
  {
   "cell_type": "markdown",
   "metadata": {},
   "source": [
    "* A comment follows the # symbol. Anything following this symbol is not executed.\n",
    "* Comments help make your code more human-readable. Add comments to clarify what your code is doing.\n",
    "* It will help other people who see your code, and could even help you when you are re-reading your own code in the future."
   ]
  },
  {
   "cell_type": "code",
   "execution_count": null,
   "metadata": {},
   "outputs": [],
   "source": [
    "# This is a comment."
   ]
  },
  {
   "cell_type": "code",
   "execution_count": null,
   "metadata": {},
   "outputs": [],
   "source": [
    "print(\n",
    "    \"Hello world!\"\n",
    ")  # this code calls the print function, prints the specified message to the screen."
   ]
  },
  {
   "cell_type": "markdown",
   "metadata": {},
   "source": [
    "# Simple data types\n",
    "\n",
    "* Variables can store data of different types, and these different types can do different things.\n",
    "* We can use different operators on different data types.\n",
    "* Python has many built-in data types, in this section we will see some of the widely used, fundamental ones.\n",
    "\n",
    "* Integers: Positive or negative whole numbers (no decimal point).\n",
    "* Floats: Real numbers. A decimal point divides them into the integer and fractional parts.\n",
    "* Strings: Sequence of characters.\n",
    "* Booleans: Represent one of two values, True or False."
   ]
  },
  {
   "cell_type": "code",
   "execution_count": null,
   "metadata": {},
   "outputs": [],
   "source": [
    "print(5)  # integer\n",
    "print(5.0)  # floating point\n",
    "print(\"hello\")  # string\n",
    "print(True)  # Boolean\n",
    "\n",
    "print(type(5))  # You can use the type() function to obtain the data type of a variable.\n",
    "print(type(5.0))"
   ]
  },
  {
   "cell_type": "markdown",
   "metadata": {},
   "source": [
    "# Variables & basic arithmetic & logic\n",
    "\n",
    "* Variables: Are containers for storing data values. Think of them as names attached to a particular object. A variable is created when you assign a value to it."
   ]
  },
  {
   "cell_type": "code",
   "execution_count": null,
   "metadata": {},
   "outputs": [],
   "source": [
    "# Variables\n",
    "\n",
    "age = 12\n",
    "print(age)\n",
    "\n",
    "age = 24  # updating the age variable\n",
    "print(age)\n",
    "\n",
    "age = age + 2\n",
    "print(age)\n",
    "\n",
    "age += 1\n",
    "print(age)"
   ]
  },
  {
   "cell_type": "code",
   "execution_count": null,
   "metadata": {},
   "outputs": [],
   "source": [
    "# Arithmetic\n",
    "\n",
    "a = 12\n",
    "b = 2\n",
    "c = 4\n",
    "\n",
    "# Common operators:\n",
    "print(a + b)\n",
    "print(a - b)\n",
    "print(a * b)\n",
    "print(a / b)\n",
    "print(a**b)\n",
    "print(a % b)"
   ]
  },
  {
   "cell_type": "code",
   "execution_count": null,
   "metadata": {},
   "outputs": [],
   "source": [
    "# Remember, order of operation matters!\n",
    "print(a + c / b)\n",
    "print((a + c) / b)"
   ]
  },
  {
   "cell_type": "code",
   "execution_count": null,
   "metadata": {},
   "outputs": [],
   "source": [
    "# Logic\n",
    "# Logical operators are used on conditional statements (evaluate to True or False)\n",
    "\n",
    "x = True\n",
    "y = False\n",
    "z = False\n",
    "\n",
    "print(x and y)\n",
    "print(x or y)\n",
    "print(not x)\n",
    "print(x or y or z)"
   ]
  },
  {
   "cell_type": "markdown",
   "metadata": {},
   "source": [
    "**A quick word on operator precedence...** Whether they are arithmetic or logical operators, the order they appear in matters! If you are ever unsure about operator precedence, add parenthesis! "
   ]
  },
  {
   "cell_type": "code",
   "execution_count": null,
   "metadata": {},
   "outputs": [],
   "source": [
    "# Comparing objects\n",
    "\n",
    "x = 1\n",
    "y = 1\n",
    "z = 547\n",
    "a = \"hello\"\n",
    "\n",
    "print(x == y)  # Equal to\n",
    "print(x == a)\n",
    "print(x != z)  # Not equal to\n",
    "print(x > y)  # Greater than\n",
    "print(x >= y)  # Greater or equal\n",
    "print(y < z)  # Less than"
   ]
  },
  {
   "cell_type": "markdown",
   "metadata": {},
   "source": [
    "# Strings & string operations\n",
    "* A sequence of characters in between quotation marks (single or double, either works).\n",
    "* A single character is a string of length 1.\n",
    "* String indexing allows you to access a particular character in a string, and string slicing isolates a subset of the string.\n",
    "* There are also many other useful built in functions for them"
   ]
  },
  {
   "cell_type": "code",
   "execution_count": null,
   "metadata": {},
   "outputs": [],
   "source": [
    "message = \"Hello, I am a string\"\n",
    "\n",
    "# String indexing\n",
    "# Each of a string’s characters correspond to an index number, starting with the index number 0.\n",
    "print(message[0])  # first character\n",
    "print(message[1])  # Second character\n",
    "print(message[-1])  # last character\n",
    "print(message[-2])  # penultimate character\n",
    "\n",
    "# String slicing\n",
    "# first index is where the slice starts (inclusive), second index is where the slice ends (exclusive)\n",
    "print(message[7:])  # 8th all the way to last character\n",
    "print(message[7:11])  # 8th to 11th character\n",
    "\n",
    "print(message[7:-7])"
   ]
  },
  {
   "cell_type": "code",
   "execution_count": null,
   "metadata": {},
   "outputs": [],
   "source": [
    "message = \"This is a string!\"\n",
    "print(message)\n",
    "\n",
    "print(len(message))  # length of strings\n",
    "\n",
    "print(message + \" And you can add stuff on.\")  # creates a new string\n",
    "\n",
    "print(\"string\" in message)  # True if \"string\" is inside the message variable\n",
    "\n",
    "# Many methods available, See more at http://davis.lbl.gov/Manuals/PYTHON-2.5.1/lib/string-methods.html\n",
    "print(message.count(\"i\"))  # Counts the number of times 'i' appears in the string\n",
    "print(message.find(\"s\"))  # Finds the index of the first 's' it finds in the string"
   ]
  },
  {
   "cell_type": "markdown",
   "metadata": {},
   "source": [
    "# Lists (mutable) & list operations\n",
    "* Store multiple items in a single variable.\n",
    "* Comma-separated items between square brackets.\n",
    "* Items in a list need not be of the same type.\n",
    "* Are ordered and mutable (can be changed without entirely recreating the list - elements can be modified, replaced, added, deleted, order changed)"
   ]
  },
  {
   "cell_type": "code",
   "execution_count": null,
   "metadata": {},
   "outputs": [],
   "source": [
    "my_list = [1, 2, 345, 42]\n",
    "\n",
    "print(my_list[0])  # Elements can be accessed through indexing, like strings.\n",
    "print(my_list[0:3])\n",
    "print(len(my_list))\n",
    "print(345 in my_list)\n",
    "print(sum(my_list))"
   ]
  },
  {
   "cell_type": "code",
   "execution_count": null,
   "metadata": {},
   "outputs": [],
   "source": [
    "my_list = [1, 2, 345, 42]\n",
    "\n",
    "my_list.append(\"hello\")\n",
    "print(my_list)\n",
    "my_list.append([3, \"hi\", 4])  # Appending a list to a list. Now there is a list inside another list.\n",
    "print(my_list)\n",
    "print(my_list[5][0])  # Access the first element ( [0] ) of the list within a list.\n",
    "\n",
    "my_list[0] = 22  # change the value, lists are mutable\n",
    "print(my_list)\n",
    "\n",
    "del my_list[0]\n",
    "print(my_list)"
   ]
  },
  {
   "cell_type": "code",
   "execution_count": null,
   "metadata": {},
   "outputs": [],
   "source": [
    "list1 = [1, 2, 3]\n",
    "list2 = [4, 5, 6]\n",
    "list3 = list1 + list2  # Concatenate lists with the + sign.\n",
    "print(list3)"
   ]
  },
  {
   "cell_type": "markdown",
   "metadata": {},
   "source": [
    "# Tuples (immutable)\n",
    "* Similar to lists, but unmutable (they can't be changed once the are created)\n",
    "* Declared as a comma-separated list within round brackets.\n",
    "* Useful for grouping data together. They are allocated more efficiently than lists, and use less memory.\n",
    "* Slicing and indexing is done in the same way as lists and strings.\n",
    "* Many of the operations and functions we saw for lists also work on tuples (any of them that don't update the tuple)."
   ]
  },
  {
   "cell_type": "code",
   "execution_count": null,
   "metadata": {},
   "outputs": [],
   "source": [
    "fruit_tuple = (\"apple\", \"orange\", \"banana\", \"guanabana\")\n",
    "print(fruit_tuple[3])"
   ]
  },
  {
   "cell_type": "code",
   "execution_count": null,
   "metadata": {},
   "outputs": [],
   "source": [
    "# Notice how updating a tuple will cause an error\n",
    "fruit_tuple = (\"apple\", \"orange\", \"banana\", \"guanabana\")\n",
    "fruit_tuple[3] = \"grape\""
   ]
  },
  {
   "cell_type": "code",
   "execution_count": null,
   "metadata": {},
   "outputs": [],
   "source": [
    "# Note that we can often convert data types to other data types through casting.\n",
    "\n",
    "# For example we can convert a tuple into a list.\n",
    "this_tuple = (1, 2, 3)\n",
    "this_list = list(this_tuple)\n",
    "print(this_list)\n",
    "\n",
    "# We can also do it for some other data types.\n",
    "this_string = \"123\"\n",
    "this_integer = int(this_string)\n",
    "print(this_integer)\n",
    "\n",
    "# Note that loss of data may occur if we force an object to be a specific data type.\n",
    "# For example, if you cast a float to an integer"
   ]
  },
  {
   "cell_type": "markdown",
   "metadata": {},
   "source": [
    "# Dictionaries\n",
    "* Dictionaries store entries as key:value pairs.\n",
    "* As of Python 3.7 (which this notebook is written in), a dictionary is ordered, mutable and does not allow duplicate entries. Before this version they were not ordered.\n",
    "* A key:value pair consists of two related objects. The user can use the key to access the value of any member of the collection.\n",
    "* They are commonly used to store datasets, and to retrieve values from the dataset by specifying the corresponding key.\n",
    "* To define them, you enclose a comma-separated list of key-value pairs (key and value are separated by a colon) in curly braces.\n",
    "* Will see the basic functionality of these data structures, but won't go into too much in depth"
   ]
  },
  {
   "cell_type": "code",
   "execution_count": null,
   "metadata": {},
   "outputs": [],
   "source": [
    "fruits_available = {\"apples\": 3, \"oranges\": 9, \"bananas\": 12, \"guanabana\": 0}\n",
    "print(fruits_available[\"apples\"])\n",
    "# Keys can be any hashable immutable type, such as strings or integers...or even some tuples. Usually we use strings.\n",
    "\n",
    "# We can store dictionaries inside dictionaries, which are called nested dictionaries.\n",
    "nested_dictionary = {\"apples\": {\"seeds\": 8}}\n",
    "print(nested_dictionary[\"apples\"][\"seeds\"])"
   ]
  },
  {
   "cell_type": "code",
   "execution_count": null,
   "metadata": {},
   "outputs": [],
   "source": [
    "fruits_nutrition = {\n",
    "    \"apple\": {\"calories\": 54, \"water_percent\": 86, \"fibre_grams\": 2.4},\n",
    "    \"orange\": {\"calories\": 60, \"water_percent\": 86, \"fibre_grams\": 3.0},\n",
    "}\n",
    "\n",
    "\n",
    "print(fruits_nutrition[\"apple\"][\"calories\"])\n",
    "\n",
    "# Updating a value in a dictionary\n",
    "fruits_nutrition[\"apple\"][\"calories\"] = 52\n",
    "print(fruits_nutrition[\"apple\"][\"calories\"])\n",
    "\n",
    "# Many inbuilt functions\n",
    "print(fruits_nutrition.keys())  # list the keys or values\n",
    "print(fruits_nutrition[\"apple\"].keys())  # for the nested dictionary\n",
    "print(fruits_nutrition[\"apple\"].values())\n",
    "\n",
    "print(fruits_nutrition.get(\"apple\"))  # alternative way to obtain a value from a key\n",
    "print(\n",
    "    fruits_nutrition.get(\"blahblah\")\n",
    ")  # can test if entry exists without causing an error if it doesn't\n",
    "\n",
    "# Since dictionaries are unordered, to add an item we just have to do as follows:\n",
    "fruits_nutrition[\"banana\"] = {\"calories\": 89, \"water_percent\": 75, \"fibre_grams\": 2.6}\n",
    "print(fruits_nutrition)  # notice our dictionary now has a new fruit\n",
    "# This is different for lists, where accessing an unexistent item would cause an error\n",
    "\n",
    "# Deleting an item from the dictionary\n",
    "del fruits_nutrition[\"apple\"]\n",
    "print(fruits_nutrition.keys())  # list the keys or values\n",
    "\n",
    "# There are many other operations inbuilt for dictionaries, I encourage you to look them up."
   ]
  },
  {
   "cell_type": "markdown",
   "metadata": {},
   "source": [
    "# Functions\n",
    "\n",
    "* A function is a relationship or mapping between a set of inputs and a set of outputs\n",
    "* Can be seen from outside as a black box, which given an input, gives you an output (although they don't always need an output).\n",
    "* Block of organized, reusable code that is typically used to perform a single action.\n",
    "* While these input names are often used interchangeably, \"parameters\" refers to the names in the function definition, and \"arguments\" refers to the values passed in the function call."
   ]
  },
  {
   "cell_type": "code",
   "execution_count": null,
   "metadata": {},
   "outputs": [],
   "source": [
    "def summing_two_nums(\n",
    "    x, y\n",
    "):  # Make a new function by using def followed by the function name you will give it.\n",
    "    return x + y\n",
    "\n",
    "\n",
    "print(summing_two_nums(1, 4))  # Call the function with inputs 1 and 4.\n",
    "\n",
    "\n",
    "def appending_to_list(input_list, new_item):\n",
    "    input_list.append(new_item)\n",
    "    return input_list\n",
    "\n",
    "\n",
    "print(appending_to_list([1, 2, 3], 4))"
   ]
  },
  {
   "cell_type": "markdown",
   "metadata": {},
   "source": [
    "### Conceptual note: pass by reference vs pass by value vs pass by sharing/assignment\n",
    "**Please note that I was mistaken in the lecture video and am correcting it in these notes! I will not evaluate this, but it is good that you know.**\n",
    "\n",
    "* All arguments in Python are passed by assignment (also called passed by sharing, or pass by Object Reference).\n",
    "* It is similar to passing by reference in the sense that the function gets passed a reference as an argument, as opposed to the actual value of the argument. However, this is not the full story, because the calling function is not given access to the variable references themselves, but merely to objects.\n",
    "* It is also similar to pass by value in the sense that object references are passed by value.\n",
    "* The important practical thing to remember for mutable objects such as lists, is that if you change what a parameter refers to inside a function, the change also reflects back in the calling function."
   ]
  },
  {
   "cell_type": "code",
   "execution_count": null,
   "metadata": {},
   "outputs": [],
   "source": [
    "def change_list(my_list):\n",
    "    my_list.append([1, 2, 3, 4])\n",
    "    print(\"Values inside the function: \", my_list)\n",
    "    return  # Note we are not returning anything\n",
    "\n",
    "\n",
    "my_list = [10, 20, 30]\n",
    "change_list(my_list)\n",
    "print(\"Values outside the function: \", my_list)"
   ]
  },
  {
   "cell_type": "code",
   "execution_count": null,
   "metadata": {},
   "outputs": [],
   "source": [
    "# Another interesting example which is not in the video lecture and demonstrates this concept.\n",
    "listA = [0]\n",
    "listB = listA\n",
    "listB.append(1)\n",
    "print(listA)"
   ]
  },
  {
   "cell_type": "markdown",
   "metadata": {},
   "source": [
    "# Importing libraries\n",
    "* Can import libraries to use functions that other people have written and are inside these libraries.\n",
    "* Some are included by default in Python, and some have to be installed.\n",
    "* Installing libraries depends on your environment manager"
   ]
  },
  {
   "cell_type": "code",
   "execution_count": null,
   "metadata": {},
   "outputs": [],
   "source": [
    "import math\n",
    "\n",
    "print(math.pi)  # constant\n",
    "print(math.factorial(5))\n",
    "\n",
    "from math import factorial\n",
    "\n",
    "print(factorial(5))"
   ]
  },
  {
   "cell_type": "code",
   "execution_count": null,
   "metadata": {},
   "outputs": [],
   "source": [
    "from IPython.display import (\n",
    "    YouTubeVideo,\n",
    ")  # Importing the YouTubeVideo function from the IPython.display module\n",
    "\n",
    "YouTubeVideo(\"EjXetWK-Ur8\", 560, 315, rel=0)"
   ]
  },
  {
   "cell_type": "markdown",
   "metadata": {},
   "source": [
    "# If statements\n",
    "* An \"if statement\" is written by using the if keyword.\n",
    "* The code within an if statement is only executed if the specified condition evaluates to True.\n",
    "* The code can make decisions based on conditions."
   ]
  },
  {
   "cell_type": "code",
   "execution_count": null,
   "metadata": {},
   "outputs": [],
   "source": [
    "x = 7\n",
    "y = 3\n",
    "\n",
    "if x > y:  # note the logic and comparison operators we saw above come in very handy\n",
    "    print(\"x is bigger than y\")\n",
    "\n",
    "# We can follow an if statement with an else statement\n",
    "# This provides an alternative plan of action if the condition evaluates to False\n",
    "if y > x:\n",
    "    print(\"y is bigger than x\")\n",
    "else:\n",
    "    print(\"y is not bigger than x\")\n",
    "\n",
    "# We can use our logical operators to build more complex conditionals\n",
    "if x != 7 or y == 3:\n",
    "    print(\"Bingo\")"
   ]
  },
  {
   "cell_type": "code",
   "execution_count": null,
   "metadata": {},
   "outputs": [],
   "source": [
    "number_list = [1, 42, 77, 777, 20]\n",
    "\n",
    "if 42 in number_list:\n",
    "    print(\"the number 42 is in the list\")\n",
    "\n",
    "if not 70 in number_list:\n",
    "    print(\"70 isn't in the list\")\n",
    "\n",
    "if 42 in number_list and 777 in number_list:\n",
    "    print(\"both 42 and 777 are in the list\")"
   ]
  },
  {
   "cell_type": "markdown",
   "metadata": {},
   "source": [
    "# Loops\n",
    "* A loop is a sequence of code that is repeated until a certain condition is met.\n",
    "* There are two main types of loops, for and while.\n",
    "* All for loops can be written as while loops, and vice-versa. Just use whichever makes your life easier.\n",
    "* We will see a few examples of how to use them"
   ]
  },
  {
   "cell_type": "code",
   "execution_count": null,
   "metadata": {},
   "outputs": [],
   "source": [
    "# While loops - execute code for as long as a condition is true.\n",
    "\n",
    "i = 1  # initialize our counter\n",
    "while i < 6:\n",
    "    print(i)\n",
    "    i += 1  # note that we are incrementing our counter variable by 1 every time. i += 1 is the same as i = i + 1\n",
    "\n",
    "# Use the break command to exit the loop - The break statement terminates the loop containing it\n",
    "\n",
    "i = 1\n",
    "while i < 6:\n",
    "    print(i)\n",
    "    if i == 3:  # exit the loop when i takes the value of 3\n",
    "        break\n",
    "    i += 1\n",
    "\n",
    "# Using a while loop to iterate voer a list\n",
    "my_list = [\"orange\", \"apples\", \"bananas\"]\n",
    "x = 0\n",
    "while x < len(my_list):\n",
    "    print(my_list[x])\n",
    "    x += 1"
   ]
  },
  {
   "cell_type": "code",
   "execution_count": null,
   "metadata": {},
   "outputs": [],
   "source": [
    "# For loops - make it easy to iterate over a sequence (such as strings, lists, dictionaries, tuples, etc...)\n",
    "\n",
    "my_list = [\"orange\", \"apples\", \"bananas\"]\n",
    "for x in my_list:\n",
    "    print(x)\n",
    "\n",
    "for y in range(9):  # in range(n) - from 0 to n-1, so here it's from from 0 to 8\n",
    "    print(y)\n",
    "\n",
    "for y in range(3, 13, 3):  # from 3 to 12, in steps of 3\n",
    "    print(y)\n",
    "\n",
    "for character in \"string\":  # loop over a string's characters.\n",
    "    print(character)"
   ]
  },
  {
   "cell_type": "code",
   "execution_count": null,
   "metadata": {},
   "outputs": [],
   "source": [
    "# Iterating over a dictionary\n",
    "\n",
    "fruits_nutrition = {\n",
    "    \"apple\": {\"calories\": 54, \"water_percent\": 86, \"fibre_grams\": 2.4},\n",
    "    \"orange\": {\"calories\": 60, \"water_percent\": 86, \"fibre_grams\": 3.0},\n",
    "    \"banana\": {\"calories\": 89, \"water_percent\": 75, \"fibre_grams\": 2.6},\n",
    "}\n",
    "\n",
    "for key in fruits_nutrition:  # loop over the keys\n",
    "    print(key)\n",
    "\n",
    "for item in fruits_nutrition.items():  # loop over keys and values\n",
    "    print(item)\n",
    "\n",
    "for key, value in fruits_nutrition.items():  # Have acces to both keys and items as you loop\n",
    "    print(\n",
    "        key, \"-->\", value[\"calories\"]\n",
    "    )  # You could also update or delete items as you iterate over them."
   ]
  },
  {
   "cell_type": "code",
   "execution_count": null,
   "metadata": {},
   "outputs": [],
   "source": [
    "# Sometimes we have loops within a loop, known as nested loops\n",
    "\n",
    "my_list = [\"orange\", \"apples\", \"bananas\"]\n",
    "\n",
    "for item in my_list:\n",
    "    x = 1\n",
    "    while (\n",
    "        x <= 3\n",
    "    ):  # note that the inner 'nested' loop has to finish before the next iteration of the outer loop.\n",
    "        print(item)  # notice the double indentation below.\n",
    "        x += 1\n",
    "\n",
    "# Worth mentioning that a break statement inside a nested loop only terminates the inner loop"
   ]
  },
  {
   "cell_type": "code",
   "execution_count": null,
   "metadata": {},
   "outputs": [],
   "source": [
    "# list comprehension magic\n",
    "new_my_list = [item for item in my_list if item[-1] == \"s\"]\n",
    "print(new_my_list)\n",
    "\n",
    "[print(item) for item in my_list for i in range(3)]"
   ]
  },
  {
   "cell_type": "markdown",
   "metadata": {},
   "source": [
    "# Exceptions\n",
    "* Often when we write code we are faced with handling errors in it. Python offers ways to allow us gracefully deal with these errors.\n",
    "* Code inside a try block lets you test the code for errors.\n",
    "* The except block lets you decide what to do in the case that there is an error inside the try block\n",
    "* The finally block allowed you to execute code regardless of the result of the try and except blocks"
   ]
  },
  {
   "cell_type": "code",
   "execution_count": null,
   "metadata": {},
   "outputs": [],
   "source": [
    "# In this piece of code the variable z is not defined, so it throws an error\n",
    "try:\n",
    "    print(w)  # this code inside the try block is tested for error\n",
    "except Exception:\n",
    "    print(\n",
    "        \"An exception occurred\"\n",
    "    )  # The code inside the except block is executed if there are errors\n",
    "\n",
    "# Note that the above code catches the most general form of exception.\n",
    "# Exceptions are usually more specific. The example above is better written as:\n",
    "\n",
    "try:\n",
    "    print(w)\n",
    "except (\n",
    "    NameError\n",
    "):  # The code throws a name error when it fails outside a try block, so if we know this is a possibility, we catch it specifically.\n",
    "    print(\"Variable w is not defined\")\n",
    "except (\n",
    "    Exception\n",
    "):  # And this code catches more general errors, in case something else unexpected goes wrong.\n",
    "    print(\"Something else went wrong\")"
   ]
  },
  {
   "cell_type": "code",
   "execution_count": null,
   "metadata": {},
   "outputs": [],
   "source": [
    "try:\n",
    "    print(z)\n",
    "except NameError:\n",
    "    print(\"Something went wrong\")\n",
    "finally:\n",
    "    print(\"The 'try except' is finished\")"
   ]
  },
  {
   "cell_type": "markdown",
   "metadata": {},
   "source": [
    "# Objects\n",
    "* Too short of a time to go into these in detail or assess them.\n",
    "* Classes are used to create user-defined data structures. \n",
    "* Classes define functions called methods, which identify what an object created from the class can perform with its data.\n",
    "* An Instance is an object that is built from a class (class =  blueprint) and contains real data"
   ]
  },
  {
   "cell_type": "code",
   "execution_count": null,
   "metadata": {},
   "outputs": [],
   "source": [
    "class Dog:\n",
    "    # Class attribute - all objects\n",
    "    species = \"Canis familiaris\"\n",
    "\n",
    "    def __init__(self, name, age):  # Specific to instance\n",
    "        self.name = name\n",
    "        self.age = age\n",
    "\n",
    "    def description(self):\n",
    "        return f\"{self.name} is {self.age} years old\"\n",
    "\n",
    "\n",
    "myDog = Dog(\"Bonzo\", 7)\n",
    "print(myDog.name)\n",
    "print(myDog.description())\n",
    "print(myDog.species)"
   ]
  }
 ],
 "metadata": {
  "kernelspec": {
   "display_name": "Python 3",
   "language": "python",
   "name": "python3"
  },
  "language_info": {
   "codemirror_mode": {
    "name": "ipython",
    "version": 3
   },
   "file_extension": ".py",
   "mimetype": "text/x-python",
   "name": "python",
   "nbconvert_exporter": "python",
   "pygments_lexer": "ipython3",
   "version": "3.8.10"
  },
  "toc": {
   "nav_menu": {},
   "number_sections": true,
   "sideBar": true,
   "skip_h1_title": false,
   "toc_cell": false,
   "toc_position": {},
   "toc_section_display": "block",
   "toc_window_display": false
  }
 },
 "nbformat": 4,
 "nbformat_minor": 4
}
